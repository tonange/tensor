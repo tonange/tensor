{
 "cells": [
  {
   "cell_type": "markdown",
   "metadata": {
    "colab_type": "text",
    "id": "iQjHqsmTAVLU"
   },
   "source": [
    "## Exercise 3\n",
    "In the videos you looked at how you would improve Fashion MNIST using Convolutions. For your exercise see if you can improve MNIST to 99.8% accuracy or more using only a single convolutional layer and a single MaxPooling 2D. You should stop training once the accuracy goes above this amount. It should happen in less than 20 epochs, so it's ok to hard code the number of epochs for training, but your training must end once it hits the above metric. If it doesn't, then you'll need to redesign your layers.\n",
    "\n",
    "I've started the code for you -- you need to finish it!\n",
    "\n",
    "When 99.8% accuracy has been hit, you should print out the string \"Reached 99.8% accuracy so cancelling training!\"\n"
   ]
  },
  {
   "cell_type": "code",
   "execution_count": 9,
   "metadata": {},
   "outputs": [],
   "source": [
    "import tensorflow as tf\n",
    "from os import path, getcwd, chdir\n",
    "\n",
    "# DO NOT CHANGE THE LINE BELOW. If you are developing in a local\n",
    "# environment, then grab mnist.npz from the Coursera Jupyter Notebook\n",
    "# and place it inside a local folder and edit the path to that location\n",
    "path = f\"{getcwd()}/mnist.npz\""
   ]
  },
  {
   "cell_type": "code",
   "execution_count": 10,
   "metadata": {},
   "outputs": [],
   "source": [
    "# config = tf.ConfigProto()\n",
    "# config.gpu_options.allow_growth = True\n",
    "# sess = tf.Session(config=config)\n",
    "tf.config.experimental.set_visible_devices([], 'GPU')"
   ]
  },
  {
   "cell_type": "code",
   "execution_count": 15,
   "metadata": {},
   "outputs": [
    {
     "name": "stdout",
     "output_type": "stream",
     "text": [
      "Epoch 1/20\n",
      "1875/1875 [==============================] - 25s 13ms/step - loss: 0.2613 - accuracy: 0.9210\n",
      "\n",
      "accuracy 0.9597833156585693\n",
      "Epoch 2/20\n",
      "1875/1875 [==============================] - 25s 13ms/step - loss: 0.0471 - accuracy: 0.9861\n",
      "\n",
      "accuracy 0.9862666726112366\n",
      "Epoch 3/20\n",
      "1875/1875 [==============================] - 25s 13ms/step - loss: 0.0268 - accuracy: 0.9916\n",
      "\n",
      "accuracy 0.9908000230789185\n",
      "Epoch 4/20\n",
      "1875/1875 [==============================] - 25s 13ms/step - loss: 0.0160 - accuracy: 0.9947\n",
      "\n",
      "accuracy 0.9939333200454712\n",
      "Epoch 5/20\n",
      "1875/1875 [==============================] - 25s 13ms/step - loss: 0.0106 - accuracy: 0.9968\n",
      "\n",
      "accuracy 0.996150016784668\n",
      "Epoch 6/20\n",
      "1875/1875 [==============================] - 25s 13ms/step - loss: 0.0067 - accuracy: 0.9979\n",
      "\n",
      "accuracy 0.9972666501998901\n",
      "Epoch 7/20\n",
      "1875/1875 [==============================] - 25s 13ms/step - loss: 0.0066 - accuracy: 0.9976\n",
      "\n",
      "accuracy 0.9975333213806152\n",
      "Epoch 8/20\n",
      "1875/1875 [==============================] - 25s 13ms/step - loss: 0.0042 - accuracy: 0.9986\n",
      "\n",
      "accuracy 0.9979333281517029\n",
      "Epoch 9/20\n",
      "1875/1875 [==============================] - 25s 13ms/step - loss: 0.0035 - accuracy: 0.9988\n",
      "\n",
      "accuracy 0.9982166886329651\n",
      "\n",
      "Reached 99.8% accuracy so cancelling training!\n"
     ]
    }
   ],
   "source": [
    "# GRADED FUNCTION: train_mnist_conv\n",
    "# def train_mnist_conv():\n",
    "# Please write your code only where you are indicated.\n",
    "# please do not remove model fitting inline comments.\n",
    "\n",
    "# YOUR CODE STARTS HERE\n",
    "class myCallback(tf.keras.callbacks.Callback):\n",
    "    def on_epoch_end(self, epoch, logs={}):        \n",
    "        print(\"\\naccuracy\", logs.get('accuracy'))\n",
    "        if (logs.get('accuracy') >= 0.998):\n",
    "            print(\"\\nReached 99.8% accuracy so cancelling training!\")\n",
    "            self.model.stop_training = True\n",
    "callbacks = myCallback()\n",
    "# YOUR CODE ENDS HERE\n",
    "\n",
    "mnist = tf.keras.datasets.mnist\n",
    "(training_images, training_labels), (test_images, test_labels) = mnist.load_data(path=path)\n",
    "# YOUR CODE STARTS HERE\n",
    "training_images=training_images.reshape(60000, 28, 28, 1)\n",
    "training_images=training_images / 255.0\n",
    "test_images=test_images.reshape(60000, 28, 28, 1)\n",
    "test_images=test_images / 255.0\n",
    "# YOUR CODE ENDS HERE\n",
    "\n",
    "model = tf.keras.models.Sequential([            \n",
    "        # YOUR CODE STARTS HERE\n",
    "        tf.keras.layers.Conv2D(64, (3,3), activation='relu', input_shape=(28, 28, 1)),\n",
    "        tf.keras.layers.MaxPooling2D(2, 2),            \n",
    "        tf.keras.layers.Flatten(),\n",
    "        tf.keras.layers.Dense(128, activation='relu'),\n",
    "        tf.keras.layers.Dense(10, activation='softmax')\n",
    "        # YOUR CODE ENDS HERE\n",
    "])\n",
    "\n",
    "model.compile(optimizer='adam', loss='sparse_categorical_crossentropy', metrics=['accuracy'])\n",
    "# model fitting\n",
    "history = model.fit(\n",
    "    # YOUR CODE STARTS HERE        \n",
    "    training_images, training_labels, epochs=20, callbacks=[callbacks]\n",
    "    # YOUR CODE ENDS HERE\n",
    ")\n",
    "# model fitting\n",
    "#return history.epoch, history.history['acc'][-1]\n",
    "\n"
   ]
  },
  {
   "cell_type": "code",
   "execution_count": 14,
   "metadata": {},
   "outputs": [],
   "source": [
    "# _, _ = train_mnist_conv()"
   ]
  },
  {
   "cell_type": "code",
   "execution_count": null,
   "metadata": {},
   "outputs": [],
   "source": [
    "# Now click the 'Submit Assignment' button above.\n",
    "# Once that is complete, please run the following two cells to save your work and close the notebook"
   ]
  },
  {
   "cell_type": "code",
   "execution_count": 29,
   "metadata": {},
   "outputs": [
    {
     "data": {
      "application/javascript": [
       "<!-- Save the notebook -->\n",
       "IPython.notebook.save_checkpoint();\n"
      ],
      "text/plain": [
       "<IPython.core.display.Javascript object>"
      ]
     },
     "metadata": {},
     "output_type": "display_data"
    }
   ],
   "source": [
    "%%javascript\n",
    "<!-- Save the notebook -->\n",
    "IPython.notebook.save_checkpoint();"
   ]
  },
  {
   "cell_type": "code",
   "execution_count": null,
   "metadata": {},
   "outputs": [
    {
     "data": {
      "application/javascript": [
       "IPython.notebook.session.delete();\n",
       "window.onbeforeunload = null\n",
       "setTimeout(function() { window.close(); }, 1000);\n"
      ],
      "text/plain": [
       "<IPython.core.display.Javascript object>"
      ]
     },
     "metadata": {},
     "output_type": "display_data"
    }
   ],
   "source": [
    "%%javascript\n",
    "IPython.notebook.session.delete();\n",
    "window.onbeforeunload = null\n",
    "setTimeout(function() { window.close(); }, 1000);"
   ]
  }
 ],
 "metadata": {
  "coursera": {
   "course_slug": "introduction-tensorflow",
   "graded_item_id": "ml06H",
   "launcher_item_id": "hQF8A"
  },
  "kernelspec": {
   "display_name": "Python 3",
   "language": "python",
   "name": "python3"
  },
  "language_info": {
   "codemirror_mode": {
    "name": "ipython",
    "version": 3
   },
   "file_extension": ".py",
   "mimetype": "text/x-python",
   "name": "python",
   "nbconvert_exporter": "python",
   "pygments_lexer": "ipython3",
   "version": "3.8.5"
  }
 },
 "nbformat": 4,
 "nbformat_minor": 1
}
